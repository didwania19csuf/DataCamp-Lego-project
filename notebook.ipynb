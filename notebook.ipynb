{
 "cells": [
  {
   "cell_type": "markdown",
   "metadata": {
    "dc": {
     "key": "1d0b086e6c"
    },
    "deletable": false,
    "editable": false,
    "run_control": {
     "frozen": true
    },
    "tags": [
     "context"
    ]
   },
   "source": [
    "## 1. Introduction\n",
    "<p>Everyone loves Lego (unless you ever stepped on one). Did you know by the way that \"Lego\" was derived from the Danish phrase leg godt, which means \"play well\"? Unless you speak Danish, probably not. </p>\n",
    "<p>In this project, we will analyze a fascinating dataset on every single lego block that has ever been built!</p>\n",
    "<p><img src=\"https://s3.amazonaws.com/assets.datacamp.com/production/project_10/datasets/lego-bricks.jpeg\" alt=\"lego\"></p>"
   ]
  },
  {
   "cell_type": "code",
   "execution_count": 45,
   "metadata": {
    "collapsed": true,
    "dc": {
     "key": "1d0b086e6c"
    },
    "tags": [
     "sample_code"
    ]
   },
   "outputs": [],
   "source": [
    "# Nothing to do here"
   ]
  },
  {
   "cell_type": "markdown",
   "metadata": {
    "dc": {
     "key": "044b2cef41"
    },
    "deletable": false,
    "editable": false,
    "run_control": {
     "frozen": true
    },
    "tags": [
     "context"
    ]
   },
   "source": [
    "## 2. Reading Data\n",
    "<p>A comprehensive database of lego blocks is provided by <a href=\"https://rebrickable.com/downloads/\">Rebrickable</a>. The data is available as csv files and the schema is shown below.</p>\n",
    "<p><img src=\"https://s3.amazonaws.com/assets.datacamp.com/production/project_10/datasets/downloads_schema.png\" alt=\"schema\"></p>\n",
    "<p>Let us start by reading in the colors data to get a sense of the diversity of lego sets!</p>"
   ]
  },
  {
   "cell_type": "code",
   "execution_count": 47,
   "metadata": {
    "dc": {
     "key": "044b2cef41"
    },
    "tags": [
     "sample_code"
    ]
   },
   "outputs": [
    {
     "data": {
      "text/html": [
       "<div>\n",
       "<table border=\"1\" class=\"dataframe\">\n",
       "  <thead>\n",
       "    <tr style=\"text-align: right;\">\n",
       "      <th></th>\n",
       "      <th>id</th>\n",
       "      <th>name</th>\n",
       "      <th>rgb</th>\n",
       "      <th>is_trans</th>\n",
       "    </tr>\n",
       "  </thead>\n",
       "  <tbody>\n",
       "    <tr>\n",
       "      <th>0</th>\n",
       "      <td>-1</td>\n",
       "      <td>Unknown</td>\n",
       "      <td>0033B2</td>\n",
       "      <td>f</td>\n",
       "    </tr>\n",
       "    <tr>\n",
       "      <th>1</th>\n",
       "      <td>0</td>\n",
       "      <td>Black</td>\n",
       "      <td>05131D</td>\n",
       "      <td>f</td>\n",
       "    </tr>\n",
       "    <tr>\n",
       "      <th>2</th>\n",
       "      <td>1</td>\n",
       "      <td>Blue</td>\n",
       "      <td>0055BF</td>\n",
       "      <td>f</td>\n",
       "    </tr>\n",
       "    <tr>\n",
       "      <th>3</th>\n",
       "      <td>2</td>\n",
       "      <td>Green</td>\n",
       "      <td>237841</td>\n",
       "      <td>f</td>\n",
       "    </tr>\n",
       "    <tr>\n",
       "      <th>4</th>\n",
       "      <td>3</td>\n",
       "      <td>Dark Turquoise</td>\n",
       "      <td>008F9B</td>\n",
       "      <td>f</td>\n",
       "    </tr>\n",
       "  </tbody>\n",
       "</table>\n",
       "</div>"
      ],
      "text/plain": [
       "   id            name     rgb is_trans\n",
       "0  -1         Unknown  0033B2        f\n",
       "1   0           Black  05131D        f\n",
       "2   1            Blue  0055BF        f\n",
       "3   2           Green  237841        f\n",
       "4   3  Dark Turquoise  008F9B        f"
      ]
     },
     "execution_count": 47,
     "metadata": {},
     "output_type": "execute_result"
    }
   ],
   "source": [
    "# Import modules\n",
    "import pandas as pd\n",
    "\n",
    "# Read colors data\n",
    "colors = pd.read_csv('datasets/colors.csv')\n",
    "\n",
    "# Print the first few rows\n",
    "colors.head()"
   ]
  },
  {
   "cell_type": "markdown",
   "metadata": {
    "dc": {
     "key": "15c1e2ce38"
    },
    "deletable": false,
    "editable": false,
    "run_control": {
     "frozen": true
    },
    "tags": [
     "context"
    ]
   },
   "source": [
    "## 3. Exploring Colors\n",
    "<p>Now that we have read the <code>colors</code> data, we can start exploring it! Let us start by understanding the number of colors available.</p>"
   ]
  },
  {
   "cell_type": "code",
   "execution_count": 49,
   "metadata": {
    "dc": {
     "key": "15c1e2ce38"
    },
    "tags": [
     "sample_code"
    ]
   },
   "outputs": [
    {
     "name": "stdout",
     "output_type": "stream",
     "text": [
      "135\n"
     ]
    }
   ],
   "source": [
    "# How many distinct colors are available?\n",
    "num_colors=colors.name.nunique()\n",
    "print(num_colors)\n",
    "# -- YOUR CODE FOR TASK 3 --"
   ]
  },
  {
   "cell_type": "markdown",
   "metadata": {
    "dc": {
     "key": "a5723ae5c2"
    },
    "deletable": false,
    "editable": false,
    "run_control": {
     "frozen": true
    },
    "tags": [
     "context"
    ]
   },
   "source": [
    "## 4. Transparent Colors in Lego Sets\n",
    "<p>The <code>colors</code> data has a column named <code>is_trans</code> that indicates whether a color is transparent or not. It would be interesting to explore the distribution of transparent vs. non-transparent colors.</p>"
   ]
  },
  {
   "cell_type": "code",
   "execution_count": 51,
   "metadata": {
    "dc": {
     "key": "a5723ae5c2"
    },
    "tags": [
     "sample_code"
    ]
   },
   "outputs": [
    {
     "name": "stdout",
     "output_type": "stream",
     "text": [
      "           id  name  rgb\n",
      "is_trans                \n",
      "f         107   107  107\n",
      "t          28    28   28\n"
     ]
    }
   ],
   "source": [
    "# colors_summary: Distribution of colors based on transparency\n",
    "colors_summary= colors.groupby('is_trans').count()\n",
    "print(colors_summary)\n",
    "# -- YOUR CODE FOR TASK 4 --"
   ]
  },
  {
   "cell_type": "markdown",
   "metadata": {
    "dc": {
     "key": "c9d0e58653"
    },
    "deletable": false,
    "editable": false,
    "run_control": {
     "frozen": true
    },
    "tags": [
     "context"
    ]
   },
   "source": [
    "## 5. Explore Lego Sets\n",
    "<p>Another interesting dataset available in this database is the <code>sets</code> data. It contains a comprehensive list of sets over the years and the number of parts that each of these sets contained. </p>\n",
    "<p><img src=\"https://imgur.com/1k4PoXs.png\" alt=\"sets_data\"></p>\n",
    "<p>Let us use this data to explore how the average number of parts in Lego sets has varied over the years.</p>"
   ]
  },
  {
   "cell_type": "code",
   "execution_count": 53,
   "metadata": {
    "dc": {
     "key": "c9d0e58653"
    },
    "scrolled": false,
    "tags": [
     "sample_code"
    ]
   },
   "outputs": [
    {
     "name": "stdout",
     "output_type": "stream",
     "text": [
      "        set_num                                               name  year  \\\n",
      "7065  700.1.2-1                            Individual 2 x 2 Bricks  1950   \n",
      "7081    700.A-1  Automatic Binding Bricks Small Brick Set (Lego...  1950   \n",
      "7083  700.B.1-1        Individual 1 x 4 x 2 Window (without glass)  1950   \n",
      "7084  700.B.2-1        Individual 1 x 2 x 3 Window (without glass)  1950   \n",
      "7085  700.B.3-1        Individual 1 x 2 x 2 Window (without glass)  1950   \n",
      "7086  700.B.4-1          Individual 1 x 2 x 4 Door (without glass)  1950   \n",
      "7062  700.1.1-1                            Individual 2 x 4 Bricks  1950   \n",
      "7082    700.B-1           Early LEGO Windows/Doors (without Glass)  1953   \n",
      "7069  700.1.4-1                            Individual 1 x 2 Bricks  1953   \n",
      "7078  700.3.4-1                            Individual 2 x 3 Bricks  1953   \n",
      "7094    700.F-1  Automatic Binding Bricks - Small Brick Set (Le...  1953   \n",
      "7088  700.C.1-1  Individual 1 x 6 x 4 Panorama Window (with glass)  1954   \n",
      "7089  700.C.2-1    Individual 1 x 6 x 3 3-Pane Window (with glass)  1954   \n",
      "7097   700GP6-1                        Gift Package (Lego Mursten)  1954   \n",
      "7075   700.24-1                           Individual 2 x 12 Bricks  1954   \n",
      "7090  700.C.3-1   Individual 1 x 6 x 3 Shutter Window (with glass)  1954   \n",
      "7091  700.C.4-1           Individual 1 x 4 x 3 Window (with glass)  1954   \n",
      "7099    700.H-1                     Individual 4 x 4 Corner Bricks  1954   \n",
      "7092  700.C.5-1           Individual 1 x 3 x 3 Window (with glass)  1954   \n",
      "7093  700.C.6-1             Individual 1 x 2 x 4 Door (with glass)  1954   \n",
      "7087    700.C-1             Tall Classic Windows/Door (with Glass)  1954   \n",
      "7096   700GP5-1                        Gift Package (Lego Mursten)  1954   \n",
      "7076   700.28-1                           Individual 2 x 14 Bricks  1954   \n",
      "7071   700.16-1                            Individual 2 x 8 Bricks  1954   \n",
      "7072   700.20-1                           Individual 2 x 10 Bricks  1954   \n",
      "674      1212-2                             Small House - Left Set  1955   \n",
      "672      1211-2                                    Small House Set  1955   \n",
      "669      1210-2                                    Small Store Set  1955   \n",
      "678      1214-2                                  Windows and Doors  1955   \n",
      "748      1248-2                           Painted Trees and Bushes  1955   \n",
      "...         ...                                                ...   ...   \n",
      "3315    40247-1  Monthly Mini Model Build September 2017 - Dino...  2017   \n",
      "3313    40246-1  Monthly Mini Model Build August 2017 - Rainbow...  2017   \n",
      "3311    40245-1       Monthly Mini Model Build June 2017 - Octopus  2017   \n",
      "3309    40244-1     Monthly Mini Model Build June 2017 - Dragonfly  2017   \n",
      "3307    40243-1        Monthly Mini Model Build May 2017 - Racecar  2017   \n",
      "3301    40242-1        Monthly Mini Model Build April 2017 - Chick  2017   \n",
      "3289    40241-1     Monthly Mini Model Build March 2017 - Platypus  2017   \n",
      "5851    60139-1                              Mobile Command Center  2017   \n",
      "3284    40239-1    Monthly Mini Model Build January 2017 - Narwhal  2017   \n",
      "5852    60140-1                                 Bulldozer Break-In  2017   \n",
      "5854    60142-1                                  Money Transporter  2017   \n",
      "5871    60158-1                            Jungle Cargo Helicopter  2017   \n",
      "5870      60158                            Jungle Cargo Helicopter  2017   \n",
      "5869    60157-1                                 Jungle Starter Set  2017   \n",
      "5868    60156-1                                       Jungle Buggy  2017   \n",
      "5867    60155-1                          LEGO City Advent Calendar  2017   \n",
      "5866    60154-1                                        Bus Station  2017   \n",
      "5865    60153-1                       People pack Fun at the beach  2017   \n",
      "5864    60152-1                                Sweeper & Excavator  2017   \n",
      "5863    60151-1                               Dragster Transporter  2017   \n",
      "5862    60150-1                                          Pizza Van  2017   \n",
      "5861    60149-1                                 4x4 with Catamaran  2017   \n",
      "5860    60148-1                                      ATV Race Team  2017   \n",
      "5859    60147-1                                       Fishing Boat  2017   \n",
      "5858    60146-1                                        Stunt Truck  2017   \n",
      "5857    60145-1                                              Buggy  2017   \n",
      "5856    60144-1                                         Race Plane  2017   \n",
      "5855    60143-1                               Auto Transport Heist  2017   \n",
      "5853    60141-1                                     Police Station  2017   \n",
      "480     10812-1                          Truck & Tracked Excavator  2017   \n",
      "\n",
      "      theme_id  num_parts  \n",
      "7065       371          9  \n",
      "7081       366         24  \n",
      "7083       371          7  \n",
      "7084       371          7  \n",
      "7085       371          7  \n",
      "7086       371          7  \n",
      "7062       371         10  \n",
      "7082       371         12  \n",
      "7069       371          1  \n",
      "7078       371          5  \n",
      "7094       371         48  \n",
      "7088       371          4  \n",
      "7089       371          4  \n",
      "7097       372         46  \n",
      "7075       371          5  \n",
      "7090       371          4  \n",
      "7091       371          4  \n",
      "7099       371          5  \n",
      "7092       371          4  \n",
      "7093       371          4  \n",
      "7087       371         24  \n",
      "7096       372         54  \n",
      "7076       371          5  \n",
      "7071       371          5  \n",
      "7072       371          5  \n",
      "674        372         21  \n",
      "672        372         19  \n",
      "669        372         30  \n",
      "678        371         24  \n",
      "748        371          6  \n",
      "...        ...        ...  \n",
      "3315       409         43  \n",
      "3313       409         32  \n",
      "3311       409         49  \n",
      "3309       409         37  \n",
      "3307       409         52  \n",
      "3301       409         54  \n",
      "3289       409         36  \n",
      "5851        61        373  \n",
      "3284       409         45  \n",
      "5852        61        558  \n",
      "5854        61        137  \n",
      "5871       614        198  \n",
      "5870       614        200  \n",
      "5869       614         88  \n",
      "5868       614         53  \n",
      "5867       208        247  \n",
      "5866        52        336  \n",
      "5865        52        167  \n",
      "5864        52        298  \n",
      "5863        52        327  \n",
      "5862        63        249  \n",
      "5861        52        197  \n",
      "5860        63        238  \n",
      "5859        52        144  \n",
      "5858        52         90  \n",
      "5857        63         80  \n",
      "5856        53         88  \n",
      "5855        61        402  \n",
      "5853        61        893  \n",
      "480        504         26  \n",
      "\n",
      "[11866 rows x 5 columns]\n"
     ]
    },
    {
     "data": {
      "image/png": "[encoded data removed]",
      "text/plain": [
       "<matplotlib.figure.Figure at 0x7f4cde338588>"
      ]
     },
     "metadata": {},
     "output_type": "display_data"
    }
   ],
   "source": [
    "%matplotlib inline\n",
    "# Read sets data as `sets`\n",
    "sets= pd.read_csv('datasets/sets.csv')\n",
    "parts_by_year=sets.sort('year')\n",
    "print(parts_by_year)\n",
    "import matplotlib.pyplot as plt\n",
    "plt.plot(parts_by_year['year'],parts_by_year['num_parts'])\n",
    "plt.show()\n",
    "\n",
    "\n",
    "# Create a summary of average number of parts by year: `parts_by_year`\n",
    "\n",
    "# Plot trends in average number of parts by year\n",
    "\n"
   ]
  },
  {
   "cell_type": "markdown",
   "metadata": {
    "dc": {
     "key": "266a3f390c"
    },
    "deletable": false,
    "editable": false,
    "run_control": {
     "frozen": true
    },
    "tags": [
     "context"
    ]
   },
   "source": [
    "## 6. Lego Themes Over Years\n",
    "<p>Lego blocks ship under multiple <a href=\"https://shop.lego.com/en-US/Themes\">themes</a>. Let us try to get a sense of how the number of themes shipped has varied over the years.</p>"
   ]
  },
  {
   "cell_type": "code",
   "execution_count": 55,
   "metadata": {
    "dc": {
     "key": "266a3f390c"
    },
    "tags": [
     "sample_code"
    ]
   },
   "outputs": [
    {
     "data": {
      "text/html": [
       "<div>\n",
       "<table border=\"1\" class=\"dataframe\">\n",
       "  <thead>\n",
       "    <tr style=\"text-align: right;\">\n",
       "      <th></th>\n",
       "      <th>theme_id</th>\n",
       "      <th>year</th>\n",
       "    </tr>\n",
       "  </thead>\n",
       "  <tbody>\n",
       "    <tr>\n",
       "      <th>0</th>\n",
       "      <td>2</td>\n",
       "      <td>0</td>\n",
       "    </tr>\n",
       "    <tr>\n",
       "      <th>1</th>\n",
       "      <td>1</td>\n",
       "      <td>1</td>\n",
       "    </tr>\n",
       "    <tr>\n",
       "      <th>2</th>\n",
       "      <td>2</td>\n",
       "      <td>2</td>\n",
       "    </tr>\n",
       "    <tr>\n",
       "      <th>3</th>\n",
       "      <td>4</td>\n",
       "      <td>3</td>\n",
       "    </tr>\n",
       "    <tr>\n",
       "      <th>4</th>\n",
       "      <td>3</td>\n",
       "      <td>4</td>\n",
       "    </tr>\n",
       "    <tr>\n",
       "      <th>5</th>\n",
       "      <td>4</td>\n",
       "      <td>5</td>\n",
       "    </tr>\n",
       "    <tr>\n",
       "      <th>6</th>\n",
       "      <td>3</td>\n",
       "      <td>6</td>\n",
       "    </tr>\n",
       "    <tr>\n",
       "      <th>7</th>\n",
       "      <td>3</td>\n",
       "      <td>7</td>\n",
       "    </tr>\n",
       "    <tr>\n",
       "      <th>8</th>\n",
       "      <td>3</td>\n",
       "      <td>8</td>\n",
       "    </tr>\n",
       "    <tr>\n",
       "      <th>9</th>\n",
       "      <td>6</td>\n",
       "      <td>9</td>\n",
       "    </tr>\n",
       "    <tr>\n",
       "      <th>10</th>\n",
       "      <td>4</td>\n",
       "      <td>10</td>\n",
       "    </tr>\n",
       "    <tr>\n",
       "      <th>11</th>\n",
       "      <td>7</td>\n",
       "      <td>11</td>\n",
       "    </tr>\n",
       "    <tr>\n",
       "      <th>12</th>\n",
       "      <td>7</td>\n",
       "      <td>12</td>\n",
       "    </tr>\n",
       "    <tr>\n",
       "      <th>13</th>\n",
       "      <td>6</td>\n",
       "      <td>13</td>\n",
       "    </tr>\n",
       "    <tr>\n",
       "      <th>14</th>\n",
       "      <td>9</td>\n",
       "      <td>14</td>\n",
       "    </tr>\n",
       "    <tr>\n",
       "      <th>15</th>\n",
       "      <td>11</td>\n",
       "      <td>15</td>\n",
       "    </tr>\n",
       "    <tr>\n",
       "      <th>16</th>\n",
       "      <td>11</td>\n",
       "      <td>16</td>\n",
       "    </tr>\n",
       "    <tr>\n",
       "      <th>17</th>\n",
       "      <td>10</td>\n",
       "      <td>17</td>\n",
       "    </tr>\n",
       "    <tr>\n",
       "      <th>18</th>\n",
       "      <td>15</td>\n",
       "      <td>18</td>\n",
       "    </tr>\n",
       "    <tr>\n",
       "      <th>19</th>\n",
       "      <td>12</td>\n",
       "      <td>19</td>\n",
       "    </tr>\n",
       "    <tr>\n",
       "      <th>20</th>\n",
       "      <td>12</td>\n",
       "      <td>20</td>\n",
       "    </tr>\n",
       "    <tr>\n",
       "      <th>21</th>\n",
       "      <td>16</td>\n",
       "      <td>21</td>\n",
       "    </tr>\n",
       "    <tr>\n",
       "      <th>22</th>\n",
       "      <td>14</td>\n",
       "      <td>22</td>\n",
       "    </tr>\n",
       "    <tr>\n",
       "      <th>23</th>\n",
       "      <td>13</td>\n",
       "      <td>23</td>\n",
       "    </tr>\n",
       "    <tr>\n",
       "      <th>24</th>\n",
       "      <td>22</td>\n",
       "      <td>24</td>\n",
       "    </tr>\n",
       "    <tr>\n",
       "      <th>25</th>\n",
       "      <td>19</td>\n",
       "      <td>25</td>\n",
       "    </tr>\n",
       "    <tr>\n",
       "      <th>26</th>\n",
       "      <td>23</td>\n",
       "      <td>26</td>\n",
       "    </tr>\n",
       "    <tr>\n",
       "      <th>27</th>\n",
       "      <td>18</td>\n",
       "      <td>27</td>\n",
       "    </tr>\n",
       "    <tr>\n",
       "      <th>28</th>\n",
       "      <td>27</td>\n",
       "      <td>28</td>\n",
       "    </tr>\n",
       "    <tr>\n",
       "      <th>29</th>\n",
       "      <td>25</td>\n",
       "      <td>29</td>\n",
       "    </tr>\n",
       "    <tr>\n",
       "      <th>...</th>\n",
       "      <td>...</td>\n",
       "      <td>...</td>\n",
       "    </tr>\n",
       "    <tr>\n",
       "      <th>36</th>\n",
       "      <td>36</td>\n",
       "      <td>36</td>\n",
       "    </tr>\n",
       "    <tr>\n",
       "      <th>37</th>\n",
       "      <td>33</td>\n",
       "      <td>37</td>\n",
       "    </tr>\n",
       "    <tr>\n",
       "      <th>38</th>\n",
       "      <td>33</td>\n",
       "      <td>38</td>\n",
       "    </tr>\n",
       "    <tr>\n",
       "      <th>39</th>\n",
       "      <td>39</td>\n",
       "      <td>39</td>\n",
       "    </tr>\n",
       "    <tr>\n",
       "      <th>40</th>\n",
       "      <td>40</td>\n",
       "      <td>40</td>\n",
       "    </tr>\n",
       "    <tr>\n",
       "      <th>41</th>\n",
       "      <td>39</td>\n",
       "      <td>41</td>\n",
       "    </tr>\n",
       "    <tr>\n",
       "      <th>42</th>\n",
       "      <td>43</td>\n",
       "      <td>42</td>\n",
       "    </tr>\n",
       "    <tr>\n",
       "      <th>43</th>\n",
       "      <td>47</td>\n",
       "      <td>43</td>\n",
       "    </tr>\n",
       "    <tr>\n",
       "      <th>44</th>\n",
       "      <td>50</td>\n",
       "      <td>44</td>\n",
       "    </tr>\n",
       "    <tr>\n",
       "      <th>45</th>\n",
       "      <td>54</td>\n",
       "      <td>45</td>\n",
       "    </tr>\n",
       "    <tr>\n",
       "      <th>46</th>\n",
       "      <td>75</td>\n",
       "      <td>46</td>\n",
       "    </tr>\n",
       "    <tr>\n",
       "      <th>47</th>\n",
       "      <td>71</td>\n",
       "      <td>47</td>\n",
       "    </tr>\n",
       "    <tr>\n",
       "      <th>48</th>\n",
       "      <td>56</td>\n",
       "      <td>48</td>\n",
       "    </tr>\n",
       "    <tr>\n",
       "      <th>49</th>\n",
       "      <td>64</td>\n",
       "      <td>49</td>\n",
       "    </tr>\n",
       "    <tr>\n",
       "      <th>50</th>\n",
       "      <td>75</td>\n",
       "      <td>50</td>\n",
       "    </tr>\n",
       "    <tr>\n",
       "      <th>51</th>\n",
       "      <td>80</td>\n",
       "      <td>51</td>\n",
       "    </tr>\n",
       "    <tr>\n",
       "      <th>52</th>\n",
       "      <td>72</td>\n",
       "      <td>52</td>\n",
       "    </tr>\n",
       "    <tr>\n",
       "      <th>53</th>\n",
       "      <td>65</td>\n",
       "      <td>53</td>\n",
       "    </tr>\n",
       "    <tr>\n",
       "      <th>54</th>\n",
       "      <td>74</td>\n",
       "      <td>54</td>\n",
       "    </tr>\n",
       "    <tr>\n",
       "      <th>55</th>\n",
       "      <td>78</td>\n",
       "      <td>55</td>\n",
       "    </tr>\n",
       "    <tr>\n",
       "      <th>56</th>\n",
       "      <td>87</td>\n",
       "      <td>56</td>\n",
       "    </tr>\n",
       "    <tr>\n",
       "      <th>57</th>\n",
       "      <td>89</td>\n",
       "      <td>57</td>\n",
       "    </tr>\n",
       "    <tr>\n",
       "      <th>58</th>\n",
       "      <td>88</td>\n",
       "      <td>58</td>\n",
       "    </tr>\n",
       "    <tr>\n",
       "      <th>59</th>\n",
       "      <td>78</td>\n",
       "      <td>59</td>\n",
       "    </tr>\n",
       "    <tr>\n",
       "      <th>60</th>\n",
       "      <td>93</td>\n",
       "      <td>60</td>\n",
       "    </tr>\n",
       "    <tr>\n",
       "      <th>61</th>\n",
       "      <td>93</td>\n",
       "      <td>61</td>\n",
       "    </tr>\n",
       "    <tr>\n",
       "      <th>62</th>\n",
       "      <td>92</td>\n",
       "      <td>62</td>\n",
       "    </tr>\n",
       "    <tr>\n",
       "      <th>63</th>\n",
       "      <td>99</td>\n",
       "      <td>63</td>\n",
       "    </tr>\n",
       "    <tr>\n",
       "      <th>64</th>\n",
       "      <td>88</td>\n",
       "      <td>64</td>\n",
       "    </tr>\n",
       "    <tr>\n",
       "      <th>65</th>\n",
       "      <td>78</td>\n",
       "      <td>65</td>\n",
       "    </tr>\n",
       "  </tbody>\n",
       "</table>\n",
       "<p>66 rows × 2 columns</p>\n",
       "</div>"
      ],
      "text/plain": [
       "    theme_id  year\n",
       "0          2     0\n",
       "1          1     1\n",
       "2          2     2\n",
       "3          4     3\n",
       "4          3     4\n",
       "5          4     5\n",
       "6          3     6\n",
       "7          3     7\n",
       "8          3     8\n",
       "9          6     9\n",
       "10         4    10\n",
       "11         7    11\n",
       "12         7    12\n",
       "13         6    13\n",
       "14         9    14\n",
       "15        11    15\n",
       "16        11    16\n",
       "17        10    17\n",
       "18        15    18\n",
       "19        12    19\n",
       "20        12    20\n",
       "21        16    21\n",
       "22        14    22\n",
       "23        13    23\n",
       "24        22    24\n",
       "25        19    25\n",
       "26        23    26\n",
       "27        18    27\n",
       "28        27    28\n",
       "29        25    29\n",
       "..       ...   ...\n",
       "36        36    36\n",
       "37        33    37\n",
       "38        33    38\n",
       "39        39    39\n",
       "40        40    40\n",
       "41        39    41\n",
       "42        43    42\n",
       "43        47    43\n",
       "44        50    44\n",
       "45        54    45\n",
       "46        75    46\n",
       "47        71    47\n",
       "48        56    48\n",
       "49        64    49\n",
       "50        75    50\n",
       "51        80    51\n",
       "52        72    52\n",
       "53        65    53\n",
       "54        74    54\n",
       "55        78    55\n",
       "56        87    56\n",
       "57        89    57\n",
       "58        88    58\n",
       "59        78    59\n",
       "60        93    60\n",
       "61        93    61\n",
       "62        92    62\n",
       "63        99    63\n",
       "64        88    64\n",
       "65        78    65\n",
       "\n",
       "[66 rows x 2 columns]"
      ]
     },
     "execution_count": 55,
     "metadata": {},
     "output_type": "execute_result"
    }
   ],
   "source": [
    "# themes_by_year: Number of themes shipped by year\n",
    "# -- YOUR CODE HERE --\n",
    "\n",
    "\n",
    "import numpy as np\n",
    "sets.drop(['set_num','name','num_parts'], axis=1)\n",
    "themes_by_year = pd.DataFrame(sets.groupby('year').theme_id.nunique())\n",
    "themes_by_year.set_index(np.arange(0,66), inplace=True)\n",
    "themes_by_year['year'] = themes_by_year.index\n",
    "themes_by_year\n",
    "\n",
    "\n"
   ]
  },
  {
   "cell_type": "markdown",
   "metadata": {
    "dc": {
     "key": "a293e5076e"
    },
    "deletable": false,
    "editable": false,
    "run_control": {
     "frozen": true
    },
    "tags": [
     "context"
    ]
   },
   "source": [
    "## 7. Wrapping It All Up!\n",
    "<p>Lego blocks offer an unlimited amount of fun across ages. We explored some interesting trends around colors, parts, and themes. </p>"
   ]
  },
  {
   "cell_type": "code",
   "execution_count": 57,
   "metadata": {
    "collapsed": true,
    "dc": {
     "key": "a293e5076e"
    },
    "tags": [
     "sample_code"
    ]
   },
   "outputs": [],
   "source": [
    "# Nothing to do here"
   ]
  }
 ],
 "metadata": {
  "kernelspec": {
   "display_name": "Python 3",
   "language": "python",
   "name": "python3"
  },
  "language_info": {
   "codemirror_mode": {
    "name": "ipython",
    "version": 3
   },
   "file_extension": ".py",
   "mimetype": "text/x-python",
   "name": "python",
   "nbconvert_exporter": "python",
   "pygments_lexer": "ipython3",
   "version": "3.6.8"
  }
 },
 "nbformat": 4,
 "nbformat_minor": 2
}
